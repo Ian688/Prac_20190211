{
 "cells": [
  {
   "cell_type": "markdown",
   "metadata": {},
   "source": [
    "# Objective\n",
    "* 20181225: \n",
    "    * Predict stock price in next day using XGBoost\n",
    "    * Given prices and other features for the last N days, we do prediction for day N+1\n",
    "    * Here we split 3 years of data into train(60%), dev(20%) and test(20%)"
   ]
  },
  {
   "cell_type": "code",
   "execution_count": 1,
   "metadata": {},
   "outputs": [],
   "source": [
    "import math\n",
    "import matplotlib\n",
    "import numpy as np\n",
    "import pandas as pd\n",
    "import seaborn as sns\n",
    "import time\n",
    "\n",
    "from matplotlib import pyplot as plt\n",
    "from pylab import rcParams\n",
    "from sklearn.metrics import mean_squared_error\n",
    "from tqdm import tqdm_notebook\n",
    "from xgboost import XGBRegressor\n",
    "\n",
    "%matplotlib inline"
   ]
  },
  {
   "cell_type": "code",
   "execution_count": 2,
   "metadata": {},
   "outputs": [],
   "source": [
    "#### Input params ##################\n",
    "stk_path = \"VTI.csv\"\n",
    "test_size = 0.2                # proportion of dataset to be used as test set\n",
    "cv_size = 0.2                  # proportion of dataset to be used as cross-validation set\n",
    "N = 7                          # for feature at day t, we use lags from t-1, t-2, ..., t-N as features\n",
    "\n",
    "n_estimators = 100             # for the initial model before tuning. default = 100\n",
    "max_depth = 3                  # for the initial model before tuning. default = 3\n",
    "learning_rate = 0.1            # for the initial model before tuning. default = 0.1\n",
    "min_child_weight = 1           # for the initial model before tuning. default = 1\n",
    "subsample = 1                  # for the initial model before tuning. default = 1\n",
    "colsample_bytree = 1           # for the initial model before tuning. default = 1\n",
    "colsample_bylevel = 1          # for the initial model before tuning. default = 1\n",
    "train_test_split_seed = 111    # 111\n",
    "model_seed = 100\n",
    "\n",
    "fontsize = 14\n",
    "ticklabelsize = 14\n",
    "####################################"
   ]
  },
  {
   "cell_type": "code",
   "execution_count": 21,
   "metadata": {},
   "outputs": [
    {
     "name": "stdout",
     "output_type": "stream",
     "text": [
      "object\n"
     ]
    }
   ],
   "source": [
    "########### Prac YSJ插入#################\n",
    "\n",
    "prac = pd.read_csv(stk_path, sep = ',')\n",
    "prac.head() \n",
    "print(prac['Date'].dtypes)\n",
    "# column headings 都是大写,日期格式"
   ]
  },
  {
   "cell_type": "markdown",
   "metadata": {},
   "source": [
    "# Load data"
   ]
  },
  {
   "cell_type": "code",
   "execution_count": 22,
   "metadata": {},
   "outputs": [
    {
     "data": {
      "text/html": [
       "<div>\n",
       "<style scoped>\n",
       "    .dataframe tbody tr th:only-of-type {\n",
       "        vertical-align: middle;\n",
       "    }\n",
       "\n",
       "    .dataframe tbody tr th {\n",
       "        vertical-align: top;\n",
       "    }\n",
       "\n",
       "    .dataframe thead th {\n",
       "        text-align: right;\n",
       "    }\n",
       "</style>\n",
       "<table border=\"1\" class=\"dataframe\">\n",
       "  <thead>\n",
       "    <tr style=\"text-align: right;\">\n",
       "      <th></th>\n",
       "      <th>date</th>\n",
       "      <th>open</th>\n",
       "      <th>high</th>\n",
       "      <th>low</th>\n",
       "      <th>close</th>\n",
       "      <th>adj_close</th>\n",
       "      <th>volume</th>\n",
       "      <th>month</th>\n",
       "    </tr>\n",
       "  </thead>\n",
       "  <tbody>\n",
       "    <tr>\n",
       "      <th>0</th>\n",
       "      <td>2015-11-25</td>\n",
       "      <td>107.510002</td>\n",
       "      <td>107.660004</td>\n",
       "      <td>107.250000</td>\n",
       "      <td>107.470001</td>\n",
       "      <td>101.497200</td>\n",
       "      <td>1820300</td>\n",
       "      <td>11</td>\n",
       "    </tr>\n",
       "    <tr>\n",
       "      <th>1</th>\n",
       "      <td>2015-11-27</td>\n",
       "      <td>107.589996</td>\n",
       "      <td>107.760002</td>\n",
       "      <td>107.220001</td>\n",
       "      <td>107.629997</td>\n",
       "      <td>101.648300</td>\n",
       "      <td>552400</td>\n",
       "      <td>11</td>\n",
       "    </tr>\n",
       "    <tr>\n",
       "      <th>2</th>\n",
       "      <td>2015-11-30</td>\n",
       "      <td>107.779999</td>\n",
       "      <td>107.849998</td>\n",
       "      <td>107.110001</td>\n",
       "      <td>107.169998</td>\n",
       "      <td>101.213867</td>\n",
       "      <td>3618100</td>\n",
       "      <td>11</td>\n",
       "    </tr>\n",
       "    <tr>\n",
       "      <th>3</th>\n",
       "      <td>2015-12-01</td>\n",
       "      <td>107.589996</td>\n",
       "      <td>108.209999</td>\n",
       "      <td>107.370003</td>\n",
       "      <td>108.180000</td>\n",
       "      <td>102.167740</td>\n",
       "      <td>2443600</td>\n",
       "      <td>12</td>\n",
       "    </tr>\n",
       "    <tr>\n",
       "      <th>4</th>\n",
       "      <td>2015-12-02</td>\n",
       "      <td>108.099998</td>\n",
       "      <td>108.269997</td>\n",
       "      <td>106.879997</td>\n",
       "      <td>107.050003</td>\n",
       "      <td>101.100533</td>\n",
       "      <td>2937200</td>\n",
       "      <td>12</td>\n",
       "    </tr>\n",
       "  </tbody>\n",
       "</table>\n",
       "</div>"
      ],
      "text/plain": [
       "        date        open        high         low       close   adj_close  \\\n",
       "0 2015-11-25  107.510002  107.660004  107.250000  107.470001  101.497200   \n",
       "1 2015-11-27  107.589996  107.760002  107.220001  107.629997  101.648300   \n",
       "2 2015-11-30  107.779999  107.849998  107.110001  107.169998  101.213867   \n",
       "3 2015-12-01  107.589996  108.209999  107.370003  108.180000  102.167740   \n",
       "4 2015-12-02  108.099998  108.269997  106.879997  107.050003  101.100533   \n",
       "\n",
       "    volume  month  \n",
       "0  1820300     11  \n",
       "1   552400     11  \n",
       "2  3618100     11  \n",
       "3  2443600     12  \n",
       "4  2937200     12  "
      ]
     },
     "execution_count": 22,
     "metadata": {},
     "output_type": "execute_result"
    }
   ],
   "source": [
    "df = pd.read_csv(stk_path, sep = \",\")\n",
    "\n",
    "# Convert Date column to datetime\n",
    "df.loc[:, 'Date'] = pd.to_datetime(df['Date'],format='%Y-%m-%d')\n",
    "\n",
    "# Change all column headings to be lower case, and remove spacing\n",
    "df.columns = [str(x).lower().replace(' ', '_') for x in df.columns]\n",
    "\n",
    "# Get month of each sample\n",
    "df['month'] = df['date'].dt.month\n",
    "\n",
    "# Sort by datetime\n",
    "df.sort_values(by='date', inplace=True, ascending=True)\n",
    "\n",
    "df.head()"
   ]
  },
  {
   "cell_type": "code",
   "execution_count": 23,
   "metadata": {},
   "outputs": [
    {
     "data": {
      "text/plain": [
       "Text(0, 0.5, 'USD')"
      ]
     },
     "execution_count": 23,
     "metadata": {},
     "output_type": "execute_result"
    },
    {
     "data": {
      "image/png": "[encoded data removed]",
      "text/plain": [
       "<Figure size 720x576 with 1 Axes>"
      ]
     },
     "metadata": {
      "needs_background": "light"
     },
     "output_type": "display_data"
    }
   ],
   "source": [
    "# Plot adjusted close over time\n",
    "rcParams['figure.figsize'] = 10, 8 # width 10, height 8\n",
    "\n",
    "ax = df.plot(x='date', y='adj_close', style='b-', grid=True)\n",
    "ax.set_xlabel(\"date\")\n",
    "ax.set_ylabel(\"USD\")"
   ]
  },
  {
   "cell_type": "markdown",
   "metadata": {},
   "source": [
    "# Feature Engineering"
   ]
  },
  {
   "cell_type": "markdown",
   "metadata": {
    "collapsed": true
   },
   "source": [
    "We will generate the following features:\n",
    "* Mean 'adj_close' of each month\n",
    "* Difference between high and low of each day\n",
    "* Difference between open and close of each day\n",
    "* Mean volume of each month"
   ]
  },
  {
   "cell_type": "code",
   "execution_count": 24,
   "metadata": {
    "scrolled": true
   },
   "outputs": [
    {
     "data": {
      "text/html": [
       "<div>\n",
       "<style scoped>\n",
       "    .dataframe tbody tr th:only-of-type {\n",
       "        vertical-align: middle;\n",
       "    }\n",
       "\n",
       "    .dataframe tbody tr th {\n",
       "        vertical-align: top;\n",
       "    }\n",
       "\n",
       "    .dataframe thead th {\n",
       "        text-align: right;\n",
       "    }\n",
       "</style>\n",
       "<table border=\"1\" class=\"dataframe\">\n",
       "  <thead>\n",
       "    <tr style=\"text-align: right;\">\n",
       "      <th></th>\n",
       "      <th>date</th>\n",
       "      <th>adj_close</th>\n",
       "      <th>volume</th>\n",
       "      <th>month</th>\n",
       "      <th>range_hl</th>\n",
       "      <th>range_oc</th>\n",
       "    </tr>\n",
       "  </thead>\n",
       "  <tbody>\n",
       "    <tr>\n",
       "      <th>0</th>\n",
       "      <td>2015-11-25</td>\n",
       "      <td>101.497200</td>\n",
       "      <td>1820300</td>\n",
       "      <td>11</td>\n",
       "      <td>0.410004</td>\n",
       "      <td>0.040001</td>\n",
       "    </tr>\n",
       "    <tr>\n",
       "      <th>1</th>\n",
       "      <td>2015-11-27</td>\n",
       "      <td>101.648300</td>\n",
       "      <td>552400</td>\n",
       "      <td>11</td>\n",
       "      <td>0.540001</td>\n",
       "      <td>-0.040001</td>\n",
       "    </tr>\n",
       "    <tr>\n",
       "      <th>2</th>\n",
       "      <td>2015-11-30</td>\n",
       "      <td>101.213867</td>\n",
       "      <td>3618100</td>\n",
       "      <td>11</td>\n",
       "      <td>0.739997</td>\n",
       "      <td>0.610001</td>\n",
       "    </tr>\n",
       "    <tr>\n",
       "      <th>3</th>\n",
       "      <td>2015-12-01</td>\n",
       "      <td>102.167740</td>\n",
       "      <td>2443600</td>\n",
       "      <td>12</td>\n",
       "      <td>0.839996</td>\n",
       "      <td>-0.590004</td>\n",
       "    </tr>\n",
       "    <tr>\n",
       "      <th>4</th>\n",
       "      <td>2015-12-02</td>\n",
       "      <td>101.100533</td>\n",
       "      <td>2937200</td>\n",
       "      <td>12</td>\n",
       "      <td>1.390000</td>\n",
       "      <td>1.049995</td>\n",
       "    </tr>\n",
       "  </tbody>\n",
       "</table>\n",
       "</div>"
      ],
      "text/plain": [
       "        date   adj_close   volume  month  range_hl  range_oc\n",
       "0 2015-11-25  101.497200  1820300     11  0.410004  0.040001\n",
       "1 2015-11-27  101.648300   552400     11  0.540001 -0.040001\n",
       "2 2015-11-30  101.213867  3618100     11  0.739997  0.610001\n",
       "3 2015-12-01  102.167740  2443600     12  0.839996 -0.590004\n",
       "4 2015-12-02  101.100533  2937200     12  1.390000  1.049995"
      ]
     },
     "execution_count": 24,
     "metadata": {},
     "output_type": "execute_result"
    }
   ],
   "source": [
    "# Get difference between high and low of each day\n",
    "df['range_hl'] = df['high'] - df['low']\n",
    "df.drop(['high', 'low'], axis=1, inplace=True)\n",
    "\n",
    "# Get difference between open and close of each day\n",
    "df['range_oc'] = df['open'] - df['close']\n",
    "df.drop(['open', 'close'], axis=1, inplace=True)\n",
    "\n",
    "df.head()"
   ]
  },
  {
   "cell_type": "markdown",
   "metadata": {},
   "source": [
    "Now we use lags up to N number of days to use as features."
   ]
  },
  {
   "cell_type": "code",
   "execution_count": 25,
   "metadata": {},
   "outputs": [
    {
     "data": {
      "text/plain": [
       "['adj_close', 'range_hl', 'range_oc', 'volume']"
      ]
     },
     "execution_count": 25,
     "metadata": {},
     "output_type": "execute_result"
    }
   ],
   "source": [
    "# Add a column 'order_day' to indicate the order of the rows by date\n",
    "df['order_day'] = [x for x in list(range(len(df)))]\n",
    "\n",
    "# merging_keys\n",
    "merging_keys = ['order_day']\n",
    "\n",
    "# List of columns that we will use to create lags\n",
    "lag_cols = ['adj_close', 'range_hl', 'range_oc', 'volume']\n",
    "lag_cols"
   ]
  },
  {
   "cell_type": "code",
   "execution_count": 26,
   "metadata": {},
   "outputs": [
    {
     "name": "stderr",
     "output_type": "stream",
     "text": [
      "<ipython-input-26-8d3c577bf558>:3: TqdmDeprecationWarning: This function will be removed in tqdm==5.0.0\n",
      "Please use `tqdm.notebook.tqdm` instead of `tqdm.tqdm_notebook`\n",
      "  for shift in tqdm_notebook(shift_range):\n"
     ]
    },
    {
     "data": {
      "application/vnd.jupyter.widget-view+json": {
       "model_id": "ab58d9d4a7b84e859ac993744a43bdf7",
       "version_major": 2,
       "version_minor": 0
      },
      "text/plain": [
       "  0%|          | 0/7 [00:00<?, ?it/s]"
      ]
     },
     "metadata": {},
     "output_type": "display_data"
    },
    {
     "data": {
      "text/html": [
       "<div>\n",
       "<style scoped>\n",
       "    .dataframe tbody tr th:only-of-type {\n",
       "        vertical-align: middle;\n",
       "    }\n",
       "\n",
       "    .dataframe tbody tr th {\n",
       "        vertical-align: top;\n",
       "    }\n",
       "\n",
       "    .dataframe thead th {\n",
       "        text-align: right;\n",
       "    }\n",
       "</style>\n",
       "<table border=\"1\" class=\"dataframe\">\n",
       "  <thead>\n",
       "    <tr style=\"text-align: right;\">\n",
       "      <th></th>\n",
       "      <th>date</th>\n",
       "      <th>adj_close</th>\n",
       "      <th>volume</th>\n",
       "      <th>month</th>\n",
       "      <th>range_hl</th>\n",
       "      <th>range_oc</th>\n",
       "      <th>order_day</th>\n",
       "      <th>adj_close_lag_1</th>\n",
       "      <th>range_hl_lag_1</th>\n",
       "      <th>range_oc_lag_1</th>\n",
       "      <th>...</th>\n",
       "      <th>range_oc_lag_5</th>\n",
       "      <th>volume_lag_5</th>\n",
       "      <th>adj_close_lag_6</th>\n",
       "      <th>range_hl_lag_6</th>\n",
       "      <th>range_oc_lag_6</th>\n",
       "      <th>volume_lag_6</th>\n",
       "      <th>adj_close_lag_7</th>\n",
       "      <th>range_hl_lag_7</th>\n",
       "      <th>range_oc_lag_7</th>\n",
       "      <th>volume_lag_7</th>\n",
       "    </tr>\n",
       "  </thead>\n",
       "  <tbody>\n",
       "    <tr>\n",
       "      <th>7</th>\n",
       "      <td>2015-12-07</td>\n",
       "      <td>100.628342</td>\n",
       "      <td>3000500</td>\n",
       "      <td>12</td>\n",
       "      <td>1.209999</td>\n",
       "      <td>0.680000</td>\n",
       "      <td>7</td>\n",
       "      <td>101.421646</td>\n",
       "      <td>1.919998</td>\n",
       "      <td>-1.580001</td>\n",
       "      <td>...</td>\n",
       "      <td>0.610001</td>\n",
       "      <td>3618100.0</td>\n",
       "      <td>101.648300</td>\n",
       "      <td>0.540001</td>\n",
       "      <td>-0.040001</td>\n",
       "      <td>552400.0</td>\n",
       "      <td>101.497200</td>\n",
       "      <td>0.410004</td>\n",
       "      <td>0.040001</td>\n",
       "      <td>1820300.0</td>\n",
       "    </tr>\n",
       "    <tr>\n",
       "      <th>8</th>\n",
       "      <td>2015-12-08</td>\n",
       "      <td>100.023895</td>\n",
       "      <td>3149600</td>\n",
       "      <td>12</td>\n",
       "      <td>1.130005</td>\n",
       "      <td>0.029998</td>\n",
       "      <td>8</td>\n",
       "      <td>100.628342</td>\n",
       "      <td>1.209999</td>\n",
       "      <td>0.680000</td>\n",
       "      <td>...</td>\n",
       "      <td>-0.590004</td>\n",
       "      <td>2443600.0</td>\n",
       "      <td>101.213867</td>\n",
       "      <td>0.739997</td>\n",
       "      <td>0.610001</td>\n",
       "      <td>3618100.0</td>\n",
       "      <td>101.648300</td>\n",
       "      <td>0.540001</td>\n",
       "      <td>-0.040001</td>\n",
       "      <td>552400.0</td>\n",
       "    </tr>\n",
       "    <tr>\n",
       "      <th>9</th>\n",
       "      <td>2015-12-09</td>\n",
       "      <td>99.164467</td>\n",
       "      <td>4179800</td>\n",
       "      <td>12</td>\n",
       "      <td>2.269997</td>\n",
       "      <td>0.550003</td>\n",
       "      <td>9</td>\n",
       "      <td>100.023895</td>\n",
       "      <td>1.130005</td>\n",
       "      <td>0.029998</td>\n",
       "      <td>...</td>\n",
       "      <td>1.049995</td>\n",
       "      <td>2937200.0</td>\n",
       "      <td>102.167740</td>\n",
       "      <td>0.839996</td>\n",
       "      <td>-0.590004</td>\n",
       "      <td>2443600.0</td>\n",
       "      <td>101.213867</td>\n",
       "      <td>0.739997</td>\n",
       "      <td>0.610001</td>\n",
       "      <td>3618100.0</td>\n",
       "    </tr>\n",
       "    <tr>\n",
       "      <th>10</th>\n",
       "      <td>2015-12-10</td>\n",
       "      <td>99.457237</td>\n",
       "      <td>3684900</td>\n",
       "      <td>12</td>\n",
       "      <td>1.140000</td>\n",
       "      <td>-0.129998</td>\n",
       "      <td>10</td>\n",
       "      <td>99.164467</td>\n",
       "      <td>2.269997</td>\n",
       "      <td>0.550003</td>\n",
       "      <td>...</td>\n",
       "      <td>1.840004</td>\n",
       "      <td>3345600.0</td>\n",
       "      <td>101.100533</td>\n",
       "      <td>1.390000</td>\n",
       "      <td>1.049995</td>\n",
       "      <td>2937200.0</td>\n",
       "      <td>102.167740</td>\n",
       "      <td>0.839996</td>\n",
       "      <td>-0.590004</td>\n",
       "      <td>2443600.0</td>\n",
       "    </tr>\n",
       "    <tr>\n",
       "      <th>11</th>\n",
       "      <td>2015-12-11</td>\n",
       "      <td>97.502281</td>\n",
       "      <td>5100700</td>\n",
       "      <td>12</td>\n",
       "      <td>1.360000</td>\n",
       "      <td>0.930000</td>\n",
       "      <td>11</td>\n",
       "      <td>99.457237</td>\n",
       "      <td>1.140000</td>\n",
       "      <td>-0.129998</td>\n",
       "      <td>...</td>\n",
       "      <td>-1.580001</td>\n",
       "      <td>4520000.0</td>\n",
       "      <td>99.589470</td>\n",
       "      <td>2.420005</td>\n",
       "      <td>1.840004</td>\n",
       "      <td>3345600.0</td>\n",
       "      <td>101.100533</td>\n",
       "      <td>1.390000</td>\n",
       "      <td>1.049995</td>\n",
       "      <td>2937200.0</td>\n",
       "    </tr>\n",
       "  </tbody>\n",
       "</table>\n",
       "<p>5 rows × 35 columns</p>\n",
       "</div>"
      ],
      "text/plain": [
       "         date   adj_close   volume  month  range_hl  range_oc  order_day  \\\n",
       "7  2015-12-07  100.628342  3000500     12  1.209999  0.680000          7   \n",
       "8  2015-12-08  100.023895  3149600     12  1.130005  0.029998          8   \n",
       "9  2015-12-09   99.164467  4179800     12  2.269997  0.550003          9   \n",
       "10 2015-12-10   99.457237  3684900     12  1.140000 -0.129998         10   \n",
       "11 2015-12-11   97.502281  5100700     12  1.360000  0.930000         11   \n",
       "\n",
       "    adj_close_lag_1  range_hl_lag_1  range_oc_lag_1  ...  range_oc_lag_5  \\\n",
       "7        101.421646        1.919998       -1.580001  ...        0.610001   \n",
       "8        100.628342        1.209999        0.680000  ...       -0.590004   \n",
       "9        100.023895        1.130005        0.029998  ...        1.049995   \n",
       "10        99.164467        2.269997        0.550003  ...        1.840004   \n",
       "11        99.457237        1.140000       -0.129998  ...       -1.580001   \n",
       "\n",
       "    volume_lag_5  adj_close_lag_6  range_hl_lag_6  range_oc_lag_6  \\\n",
       "7      3618100.0       101.648300        0.540001       -0.040001   \n",
       "8      2443600.0       101.213867        0.739997        0.610001   \n",
       "9      2937200.0       102.167740        0.839996       -0.590004   \n",
       "10     3345600.0       101.100533        1.390000        1.049995   \n",
       "11     4520000.0        99.589470        2.420005        1.840004   \n",
       "\n",
       "    volume_lag_6  adj_close_lag_7  range_hl_lag_7  range_oc_lag_7  \\\n",
       "7       552400.0       101.497200        0.410004        0.040001   \n",
       "8      3618100.0       101.648300        0.540001       -0.040001   \n",
       "9      2443600.0       101.213867        0.739997        0.610001   \n",
       "10     2937200.0       102.167740        0.839996       -0.590004   \n",
       "11     3345600.0       101.100533        1.390000        1.049995   \n",
       "\n",
       "    volume_lag_7  \n",
       "7      1820300.0  \n",
       "8       552400.0  \n",
       "9      3618100.0  \n",
       "10     2443600.0  \n",
       "11     2937200.0  \n",
       "\n",
       "[5 rows x 35 columns]"
      ]
     },
     "execution_count": 26,
     "metadata": {},
     "output_type": "execute_result"
    }
   ],
   "source": [
    "shift_range = [x+1 for x in range(N)]\n",
    "\n",
    "for shift in tqdm_notebook(shift_range):\n",
    "    train_shift = df[merging_keys + lag_cols].copy()\n",
    "    \n",
    "    # E.g. order_day of 0 becomes 1, for shift = 1.\n",
    "    # So when this is merged with order_day of 1 in df, this will represent lag of 1.\n",
    "    train_shift['order_day'] = train_shift['order_day'] + shift\n",
    "    \n",
    "    foo = lambda x: '{}_lag_{}'.format(x, shift) if x in lag_cols else x\n",
    "    train_shift = train_shift.rename(columns=foo)\n",
    "\n",
    "    df = pd.merge(df, train_shift, on=merging_keys, how='left') #.fillna(0)\n",
    "    \n",
    "del train_shift\n",
    "\n",
    "# Remove the first N rows which contain NaNs\n",
    "df = df[N:]\n",
    "    \n",
    "df.head()"
   ]
  },
  {
   "cell_type": "code",
   "execution_count": 27,
   "metadata": {},
   "outputs": [
    {
     "name": "stdout",
     "output_type": "stream",
     "text": [
      "<class 'pandas.core.frame.DataFrame'>\n",
      "Int64Index: 748 entries, 7 to 754\n",
      "Data columns (total 35 columns):\n",
      " #   Column           Non-Null Count  Dtype         \n",
      "---  ------           --------------  -----         \n",
      " 0   date             748 non-null    datetime64[ns]\n",
      " 1   adj_close        748 non-null    float64       \n",
      " 2   volume           748 non-null    int64         \n",
      " 3   month            748 non-null    int64         \n",
      " 4   range_hl         748 non-null    float64       \n",
      " 5   range_oc         748 non-null    float64       \n",
      " 6   order_day        748 non-null    int64         \n",
      " 7   adj_close_lag_1  748 non-null    float64       \n",
      " 8   range_hl_lag_1   748 non-null    float64       \n",
      " 9   range_oc_lag_1   748 non-null    float64       \n",
      " 10  volume_lag_1     748 non-null    float64       \n",
      " 11  adj_close_lag_2  748 non-null    float64       \n",
      " 12  range_hl_lag_2   748 non-null    float64       \n",
      " 13  range_oc_lag_2   748 non-null    float64       \n",
      " 14  volume_lag_2     748 non-null    float64       \n",
      " 15  adj_close_lag_3  748 non-null    float64       \n",
      " 16  range_hl_lag_3   748 non-null    float64       \n",
      " 17  range_oc_lag_3   748 non-null    float64       \n",
      " 18  volume_lag_3     748 non-null    float64       \n",
      " 19  adj_close_lag_4  748 non-null    float64       \n",
      " 20  range_hl_lag_4   748 non-null    float64       \n",
      " 21  range_oc_lag_4   748 non-null    float64       \n",
      " 22  volume_lag_4     748 non-null    float64       \n",
      " 23  adj_close_lag_5  748 non-null    float64       \n",
      " 24  range_hl_lag_5   748 non-null    float64       \n",
      " 25  range_oc_lag_5   748 non-null    float64       \n",
      " 26  volume_lag_5     748 non-null    float64       \n",
      " 27  adj_close_lag_6  748 non-null    float64       \n",
      " 28  range_hl_lag_6   748 non-null    float64       \n",
      " 29  range_oc_lag_6   748 non-null    float64       \n",
      " 30  volume_lag_6     748 non-null    float64       \n",
      " 31  adj_close_lag_7  748 non-null    float64       \n",
      " 32  range_hl_lag_7   748 non-null    float64       \n",
      " 33  range_oc_lag_7   748 non-null    float64       \n",
      " 34  volume_lag_7     748 non-null    float64       \n",
      "dtypes: datetime64[ns](1), float64(31), int64(3)\n",
      "memory usage: 210.4 KB\n"
     ]
    }
   ],
   "source": [
    "df.info()"
   ]
  },
  {
   "cell_type": "code",
   "execution_count": 28,
   "metadata": {},
   "outputs": [],
   "source": [
    "# # Get mean of adj_close of each month\n",
    "# df_gb = df.groupby(['month'], as_index=False).agg({'adj_close':'mean'})\n",
    "# df_gb = df_gb.rename(columns={'adj_close':'adj_close_mean'})\n",
    "# df_gb\n",
    "\n",
    "# # Merge to main df\n",
    "# df = df.merge(df_gb, \n",
    "#               left_on=['month'], \n",
    "#               right_on=['month'],\n",
    "#               how='left').fillna(0)\n",
    "\n",
    "# # Merge to main df\n",
    "# shift_range = [x+1 for x in range(2)]\n",
    "\n",
    "# for shift in tqdm_notebook(shift_range):\n",
    "#     train_shift = df[merging_keys + lag_cols].copy()\n",
    "    \n",
    "#     # E.g. order_day of 0 becomes 1, for shift = 1.\n",
    "#     # So when this is merged with order_day of 1 in df, this will represent lag of 1.\n",
    "#     train_shift['order_day'] = train_shift['order_day'] + shift\n",
    "    \n",
    "#     foo = lambda x: '{}_lag_{}'.format(x, shift) if x in lag_cols else x\n",
    "#     train_shift = train_shift.rename(columns=foo)\n",
    "\n",
    "#     df = pd.merge(df, train_shift, on=merging_keys, how='left') #.fillna(0)\n",
    "    \n",
    "# del train_shift\n",
    "    \n",
    "# df"
   ]
  },
  {
   "cell_type": "code",
   "execution_count": 29,
   "metadata": {},
   "outputs": [],
   "source": [
    "# # Get mean of volume of each month\n",
    "# df_gb = df.groupby(['month'], as_index=False).agg({'volume':'mean'})\n",
    "# df_gb = df_gb.rename(columns={'volume':'volume_mean'})\n",
    "# df_gb\n",
    "\n",
    "# # Merge to main df\n",
    "# df = df.merge(df_gb, \n",
    "#               left_on=['month'], \n",
    "#               right_on=['month'],\n",
    "#               how='left').fillna(0)\n",
    "\n",
    "# df.head()"
   ]
  },
  {
   "cell_type": "markdown",
   "metadata": {
    "collapsed": true
   },
   "source": [
    "# Split into train, cv and test set"
   ]
  },
  {
   "cell_type": "code",
   "execution_count": 30,
   "metadata": {},
   "outputs": [
    {
     "name": "stdout",
     "output_type": "stream",
     "text": [
      "X_train.shape = (450, 28)\n",
      "y_train.shape = (450,)\n",
      "X_cv.shape = (149, 28)\n",
      "y_cv.shape = (149,)\n",
      "X_train_cv.shape = (599, 28)\n",
      "y_train_cv.shape = (599,)\n",
      "X_sample.shape = (149, 28)\n",
      "y_sample.shape = (149,)\n"
     ]
    }
   ],
   "source": [
    "features = [\n",
    "\"adj_close_lag_1\",\n",
    "\"range_hl_lag_1\",\n",
    "\"range_oc_lag_1\",\n",
    "\"volume_lag_1\",\n",
    "\"adj_close_lag_2\",\n",
    "\"range_hl_lag_2\",\n",
    "\"range_oc_lag_2\",\n",
    "\"volume_lag_2\",\n",
    "\"adj_close_lag_3\",\n",
    "\"range_hl_lag_3\",\n",
    "\"range_oc_lag_3\",\n",
    "\"volume_lag_3\",\n",
    "\"adj_close_lag_4\",\n",
    "\"range_hl_lag_4\",\n",
    "\"range_oc_lag_4\",\n",
    "\"volume_lag_4\",\n",
    "\"adj_close_lag_5\",\n",
    "\"range_hl_lag_5\",\n",
    "\"range_oc_lag_5\",\n",
    "\"volume_lag_5\",\n",
    "\"adj_close_lag_6\",\n",
    "\"range_hl_lag_6\",\n",
    "\"range_oc_lag_6\",\n",
    "\"volume_lag_6\",\n",
    "\"adj_close_lag_7\",\n",
    "\"range_hl_lag_7\",\n",
    "\"range_oc_lag_7\",\n",
    "\"volume_lag_7\"\n",
    "]\n",
    "\n",
    "target = \"adj_close\"\n",
    "\n",
    "# Get sizes of each of the datasets\n",
    "num_cv = int(cv_size*len(df))\n",
    "num_test = int(test_size*len(df))\n",
    "num_train = len(df) - num_cv - num_test\n",
    "\n",
    "# Split into train, cv, and test\n",
    "train = df[:num_train]\n",
    "cv = df[num_train:num_train+num_cv]\n",
    "train_cv = df[:num_train+num_cv]\n",
    "test = df[num_train+num_cv:]\n",
    "\n",
    "# Split into X and y\n",
    "X_train = train[features]\n",
    "y_train = train[target]\n",
    "X_cv = cv[features]\n",
    "y_cv = cv[target]\n",
    "X_train_cv = train_cv[features]\n",
    "y_train_cv = train_cv[target]\n",
    "X_sample = test[features]\n",
    "y_sample = test[target]\n",
    "print(\"X_train.shape = \" + str(X_train.shape))\n",
    "print(\"y_train.shape = \" + str(y_train.shape))\n",
    "print(\"X_cv.shape = \" + str(X_cv.shape))\n",
    "print(\"y_cv.shape = \" + str(y_cv.shape))\n",
    "print(\"X_train_cv.shape = \" + str(X_train_cv.shape))\n",
    "print(\"y_train_cv.shape = \" + str(y_train_cv.shape))\n",
    "print(\"X_sample.shape = \" + str(X_sample.shape))\n",
    "print(\"y_sample.shape = \" + str(y_sample.shape))"
   ]
  },
  {
   "cell_type": "markdown",
   "metadata": {},
   "source": [
    "# EDA"
   ]
  },
  {
   "cell_type": "code",
   "execution_count": 31,
   "metadata": {},
   "outputs": [
    {
     "data": {
      "text/plain": [
       "Text(0, 0.5, 'USD')"
      ]
     },
     "execution_count": 31,
     "metadata": {},
     "output_type": "execute_result"
    },
    {
     "data": {
      "image/png": "[encoded data removed]",
      "text/plain": [
       "<Figure size 720x576 with 1 Axes>"
      ]
     },
     "metadata": {
      "needs_background": "light"
     },
     "output_type": "display_data"
    }
   ],
   "source": [
    "# Plot adjusted close over time\n",
    "rcParams['figure.figsize'] = 10, 8 # width 10, height 8\n",
    "\n",
    "ax = train.plot(x='date', y='adj_close', style='b-', grid=True)\n",
    "ax = cv.plot(x='date', y='adj_close', style='y-', grid=True, ax=ax)\n",
    "ax = test.plot(x='date', y='adj_close', style='g-', grid=True, ax=ax)\n",
    "ax.legend(['train', 'dev', 'test'])\n",
    "ax.set_xlabel(\"date\")\n",
    "ax.set_ylabel(\"USD\")"
   ]
  },
  {
   "cell_type": "markdown",
   "metadata": {
    "collapsed": true
   },
   "source": [
    "# Train the model using XGBoost"
   ]
  },
  {
   "cell_type": "code",
   "execution_count": 32,
   "metadata": {},
   "outputs": [
    {
     "data": {
      "text/plain": [
       "XGBRegressor(base_score=0.5, booster='gbtree', colsample_bylevel=1,\n",
       "             colsample_bynode=1, colsample_bytree=1, gamma=0, gpu_id=-1,\n",
       "             importance_type='gain', interaction_constraints='',\n",
       "             learning_rate=0.1, max_delta_step=0, max_depth=3,\n",
       "             min_child_weight=1, missing=nan, monotone_constraints='()',\n",
       "             n_estimators=100, n_jobs=8, num_parallel_tree=1, random_state=100,\n",
       "             reg_alpha=0, reg_lambda=1, scale_pos_weight=1, seed=100,\n",
       "             subsample=1, tree_method='exact', validate_parameters=1,\n",
       "             verbosity=None)"
      ]
     },
     "execution_count": 32,
     "metadata": {},
     "output_type": "execute_result"
    }
   ],
   "source": [
    "# Create the model\n",
    "model = XGBRegressor(seed=model_seed,\n",
    "                      n_estimators=n_estimators,\n",
    "                      max_depth=max_depth,\n",
    "                      learning_rate=learning_rate,\n",
    "                      min_child_weight=min_child_weight)\n",
    "\n",
    "# Train the regressor\n",
    "model.fit(X_train, y_train)"
   ]
  },
  {
   "cell_type": "markdown",
   "metadata": {},
   "source": [
    "# Predict on train set"
   ]
  },
  {
   "cell_type": "code",
   "execution_count": 33,
   "metadata": {},
   "outputs": [
    {
     "data": {
      "text/plain": [
       "0.41709169647858935"
      ]
     },
     "execution_count": 33,
     "metadata": {},
     "output_type": "execute_result"
    }
   ],
   "source": [
    "# Do prediction on train set\n",
    "est = model.predict(X_train)\n",
    "\n",
    "# Calculate RMSE\n",
    "math.sqrt(mean_squared_error(y_train, est))"
   ]
  },
  {
   "cell_type": "code",
   "execution_count": 34,
   "metadata": {},
   "outputs": [
    {
     "data": {
      "text/plain": [
       "Text(0, 0.5, 'USD')"
      ]
     },
     "execution_count": 34,
     "metadata": {},
     "output_type": "execute_result"
    },
    {
     "data": {
      "image/png": "[encoded data removed]",
      "text/plain": [
       "<Figure size 720x576 with 1 Axes>"
      ]
     },
     "metadata": {
      "needs_background": "light"
     },
     "output_type": "display_data"
    }
   ],
   "source": [
    "# Plot adjusted close over time\n",
    "rcParams['figure.figsize'] = 10, 8 # width 10, height 8\n",
    "\n",
    "est_df = pd.DataFrame({'est': est, \n",
    "                       'date': train['date']})\n",
    "\n",
    "ax = train.plot(x='date', y='adj_close', style='b-', grid=True)\n",
    "ax = cv.plot(x='date', y='adj_close', style='y-', grid=True, ax=ax)\n",
    "ax = test.plot(x='date', y='adj_close', style='g-', grid=True, ax=ax)\n",
    "ax = est_df.plot(x='date', y='est', style='r-', grid=True, ax=ax)\n",
    "ax.legend(['train', 'dev', 'test', 'est'])\n",
    "ax.set_xlabel(\"date\")\n",
    "ax.set_ylabel(\"USD\")"
   ]
  },
  {
   "cell_type": "markdown",
   "metadata": {},
   "source": [
    "# Predict on dev set"
   ]
  },
  {
   "cell_type": "code",
   "execution_count": 35,
   "metadata": {},
   "outputs": [
    {
     "name": "stdout",
     "output_type": "stream",
     "text": [
      "RMSE = 10.366748346508297\n"
     ]
    }
   ],
   "source": [
    "# Do prediction on test set\n",
    "est = model.predict(X_cv)\n",
    "\n",
    "# Calculate RMSE\n",
    "print(\"RMSE = \" + str(math.sqrt(mean_squared_error(y_cv, est))))"
   ]
  },
  {
   "cell_type": "code",
   "execution_count": 36,
   "metadata": {},
   "outputs": [
    {
     "data": {
      "text/plain": [
       "Text(0, 0.5, 'USD')"
      ]
     },
     "execution_count": 36,
     "metadata": {},
     "output_type": "execute_result"
    },
    {
     "data": {
      "image/png": "[encoded data removed]",
      "text/plain": [
       "<Figure size 720x576 with 1 Axes>"
      ]
     },
     "metadata": {
      "needs_background": "light"
     },
     "output_type": "display_data"
    }
   ],
   "source": [
    "# Plot adjusted close over time\n",
    "rcParams['figure.figsize'] = 10, 8 # width 10, height 8\n",
    "matplotlib.rcParams.update({'font.size': 14})\n",
    "\n",
    "est_df = pd.DataFrame({'est': est, \n",
    "                       'y_cv': y_cv,\n",
    "                       'date': cv['date']})\n",
    "\n",
    "ax = train.plot(x='date', y='adj_close', style='b-', grid=True)\n",
    "ax = cv.plot(x='date', y='adj_close', style='y-', grid=True, ax=ax)\n",
    "ax = test.plot(x='date', y='adj_close', style='g-', grid=True, ax=ax)\n",
    "ax = est_df.plot(x='date', y='est', style='r-', grid=True, ax=ax)\n",
    "ax.legend(['train', 'validation', 'test', 'predictions'])\n",
    "ax.set_xlabel(\"date\")\n",
    "ax.set_ylabel(\"USD\")"
   ]
  },
  {
   "cell_type": "markdown",
   "metadata": {
    "collapsed": true
   },
   "source": [
    "# Findings\n",
    "* Doesn't work well\n",
    "* Likely because the model was trained on prices below 125 and so when it saw prices above 125 for the dev set, it could not generalize well.\n",
    "* Should try to normalize the data"
   ]
  },
  {
   "cell_type": "code",
   "execution_count": null,
   "metadata": {
    "collapsed": true
   },
   "outputs": [],
   "source": []
  }
 ],
 "metadata": {
  "kernelspec": {
   "display_name": "Python 3",
   "language": "python",
   "name": "python3"
  },
  "language_info": {
   "codemirror_mode": {
    "name": "ipython",
    "version": 3
   },
   "file_extension": ".py",
   "mimetype": "text/x-python",
   "name": "python",
   "nbconvert_exporter": "python",
   "pygments_lexer": "ipython3",
   "version": "3.8.8"
  }
 },
 "nbformat": 4,
 "nbformat_minor": 2
}
